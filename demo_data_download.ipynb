{
 "cells": [
  {
   "cell_type": "markdown",
   "id": "5077966b",
   "metadata": {},
   "source": [
    "This notebook has been tested with python 3.9.12. The libraries have also been tested with python 3.10."
   ]
  },
  {
   "cell_type": "code",
   "execution_count": 7,
   "id": "9bdc5471",
   "metadata": {},
   "outputs": [
    {
     "name": "stdout",
     "output_type": "stream",
     "text": [
      "%pylab is deprecated, use %matplotlib inline and import the required libraries.\n",
      "Populating the interactive namespace from numpy and matplotlib\n"
     ]
    },
    {
     "name": "stderr",
     "output_type": "stream",
     "text": [
      "/home/redhog/Projects/Emerald/experimental-pipeline-inversion/env/lib/python3.11/site-packages/IPython/core/magics/pylab.py:166: UserWarning: pylab import has clobbered these variables: ['f']\n",
      "`%matplotlib` prevents importing * from pylab and numpy\n",
      "  warn(\"pylab import has clobbered these variables: %s\"  % clobbered +\n"
     ]
    }
   ],
   "source": [
    "%pylab inline\n",
    "import pandas as pd\n",
    "import libaarhusxyz\n",
    "import numpy as np\n",
    "import requests\n",
    "import os"
   ]
  },
  {
   "cell_type": "markdown",
   "id": "48aeee5c",
   "metadata": {},
   "source": [
    "# Data download\n",
    "\n",
    "Download data linked from https://doi.org/10.25740/vj301kx0276 and place it in the folder data/IncisedValley. If this fails in the future, go to the above URL and check if they've changed their page structure, you might still be able to find the new URL:s."
   ]
  },
  {
   "cell_type": "code",
   "execution_count": 8,
   "id": "8dc67a15-3256-45e6-93dc-04645c46a27b",
   "metadata": {},
   "outputs": [],
   "source": [
    "if not os.path.exists(\"data/IncisedValley\"):\n",
    "    os.makedirs(\"data/IncisedValley\")"
   ]
  },
  {
   "cell_type": "markdown",
   "id": "b72b74c0-57e0-4ba7-9d9d-bea56cb19d85",
   "metadata": {},
   "source": [
    "# Data preparation\n",
    "\n",
    "As this data is not in the original SkyTEM XYZ format, but has been converted to a CSV (the header has been stripped) we need to convert it back to that format."
   ]
  },
  {
   "cell_type": "code",
   "execution_count": 9,
   "id": "66e35a5a",
   "metadata": {},
   "outputs": [],
   "source": [
    "r = requests.get(\"https://stacks.stanford.edu/file/druid:vj301kx0276/aem_processed_data_foothill_central_valley.csv\")\n",
    "assert r.status_code == 200\n",
    "with open(\"data/IncisedValley/aem_processed_data_foothill_central_valley.csv\", \"wb\") as f:\n",
    "    f.write(r.content)"
   ]
  },
  {
   "cell_type": "code",
   "execution_count": 10,
   "id": "69546621-dde4-4a09-8372-bd4e043e7553",
   "metadata": {},
   "outputs": [],
   "source": [
    "r = requests.get(\"https://stacks.stanford.edu/file/druid:vj301kx0276/20201231_20023_IVF_SkyTEM304_SKB.gex\")\n",
    "assert r.status_code == 200\n",
    "with open(\"data/IncisedValley/20201231_20023_IVF_SkyTEM304_SKB.gex\", \"wb\") as f:\n",
    "    f.write(r.content)"
   ]
  },
  {
   "cell_type": "code",
   "execution_count": 11,
   "id": "2a35455c",
   "metadata": {},
   "outputs": [],
   "source": [
    "x = libaarhusxyz.XYZ()\n",
    "x.flightlines = pd.read_csv(\"data/IncisedValley/aem_processed_data_foothill_central_valley.csv\")\n",
    "x.model_info[\"scalefactor\"] = 1 # Unit in file is V/(Am**4), if data is in picoV, set to 1e-12 :)\n",
    "# Our code expects tild to be measured as degrees from vertical of the transmitter loop normal.\n",
    "# Input data is referenced to positive x, so we need to rotate it...\n",
    "x.flightlines.TILT_X -= 270\n",
    "x.flightlines.TILT_Y -= 270\n",
    "\n",
    "x.normalize()\n",
    "\n",
    "x.dump(\"data/IncisedValley/aem_processed_data_foothill_central_valley.xyz\")"
   ]
  },
  {
   "cell_type": "markdown",
   "id": "b93bf69f-95b4-4578-8c4a-96aae8abb2b7",
   "metadata": {},
   "source": [
    "# Split flightlines\n",
    "\n",
    "Split the dataset into individual flightline files, as it's often more practical to work with and allows us to e.g. do an inversion of a single flightline easily for demo purposes."
   ]
  },
  {
   "cell_type": "code",
   "execution_count": 12,
   "id": "fbf6f351-a33d-4442-92e1-4044634a4211",
   "metadata": {},
   "outputs": [],
   "source": [
    "for lineno, line in x.split_by_line().items():\n",
    "    line.dump(\"data/IncisedValley/aem_processed_data_foothill_central_valley.%s.xyz\" % (lineno,))"
   ]
  },
  {
   "cell_type": "code",
   "execution_count": null,
   "id": "5b24b182-2a58-43cd-990b-132dff9c3d0a",
   "metadata": {},
   "outputs": [],
   "source": []
  }
 ],
 "metadata": {
  "kernelspec": {
   "display_name": "experimental-pipeline-inversion",
   "language": "python",
   "name": "experimental-pipeline-inversion"
  },
  "language_info": {
   "codemirror_mode": {
    "name": "ipython",
    "version": 3
   },
   "file_extension": ".py",
   "mimetype": "text/x-python",
   "name": "python",
   "nbconvert_exporter": "python",
   "pygments_lexer": "ipython3",
   "version": "3.11.2"
  }
 },
 "nbformat": 4,
 "nbformat_minor": 5
}
